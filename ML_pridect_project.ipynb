{
  "nbformat": 4,
  "nbformat_minor": 0,
  "metadata": {
    "colab": {
      "private_outputs": true,
      "provenance": [],
      "authorship_tag": "ABX9TyOOFoKYEp3NSeHYcKL8XimX",
      "include_colab_link": true
    },
    "kernelspec": {
      "name": "python3",
      "display_name": "Python 3"
    },
    "language_info": {
      "name": "python"
    }
  },
  "cells": [
    {
      "cell_type": "markdown",
      "metadata": {
        "id": "view-in-github",
        "colab_type": "text"
      },
      "source": [
        "<a href=\"https://colab.research.google.com/github/javmohir/Machine_Learning/blob/main/ML_pridect_project.ipynb\" target=\"_parent\"><img src=\"https://colab.research.google.com/assets/colab-badge.svg\" alt=\"Open In Colab\"/></a>"
      ]
    },
    {
      "cell_type": "code",
      "execution_count": null,
      "metadata": {
        "id": "652UEY3e6fkN"
      },
      "outputs": [],
      "source": [
        "import pandas as pd\n",
        "import numpy as np\n",
        "import sklearn # scikit-learn kutubxonasi"
      ]
    },
    {
      "cell_type": "markdown",
      "source": [
        "Machine Learning\n",
        "Nihoyat ma'lumotlarimiz ML uchun tayyor.\n",
        "\n",
        "Boshlanishiga kerakli modullar va ma'lumotlarni qayta o'qib olamiz."
      ],
      "metadata": {
        "id": "6ibEEdB1zboc"
      }
    },
    {
      "cell_type": "markdown",
      "source": [
        "Ma'lumotlarni o'qiymiz"
      ],
      "metadata": {
        "id": "rSGDWnBpzk00"
      }
    },
    {
      "cell_type": "code",
      "source": [
        "# Onlayn dataset joylashgan manzilini ko'rsatamiaz\n",
        "URL = \"https://github.com/ageron/handson-ml2/blob/master/datasets/housing/housing.csv?raw=true\"\n",
        "df = pd.read_csv(URL)"
      ],
      "metadata": {
        "id": "kdjxlaTfzlrW"
      },
      "execution_count": null,
      "outputs": []
    },
    {
      "cell_type": "markdown",
      "source": [
        "Ma'lumotlarni train va testga ajratamiz."
      ],
      "metadata": {
        "id": "TlMmtDVjzsQD"
      }
    },
    {
      "cell_type": "code",
      "source": [
        "from sklearn.model_selection import train_test_split\n",
        "train_set, test_set = train_test_split(df, test_size=0.2, random_state=42)\n",
        "\n",
        "X_train = train_set.drop(\"median_house_value\", axis=1)\n",
        "y = train_set[\"median_house_value\"].copy()\n",
        "\n",
        "X_num = X_train.drop(\"ocean_proximity\", axis=1)\n"
      ],
      "metadata": {
        "id": "bSRgRwmszo7M"
      },
      "execution_count": null,
      "outputs": []
    },
    {
      "cell_type": "markdown",
      "source": [
        "Pipeline quramiz"
      ],
      "metadata": {
        "id": "uzwLXXdp1SqM"
      }
    },
    {
      "cell_type": "code",
      "source": [
        "from sklearn.base import BaseEstimator, TransformerMixin\n",
        "# bizga kerak ustunlar indekslari\n",
        "rooms_ix, bedrooms_ix, population_ix, households_ix = 3, 4, 5, 6\n",
        "class CombinedAttributesAdder(BaseEstimator, TransformerMixin):\n",
        "    def __init__(self, add_bedrooms_per_room = True):\n",
        "        self.add_bedrooms_per_room = add_bedrooms_per_room\n",
        "    def fit(self, X, y=None):\n",
        "        return self # bizni funksiyamiz faqat transformer. estimator emas\n",
        "    def transform(self, X):\n",
        "        rooms_per_household =  X[:, rooms_ix] / X[:, households_ix]\n",
        "        population_per_household = X[:, population_ix]/X[:, households_ix]\n",
        "        if self.add_bedrooms_per_room: # add_bedrooms_per_room ustuni ixtiyoriy bo'ladi\n",
        "             bedrooms_per_room = X[:, bedrooms_ix]/X[:, rooms_ix]\n",
        "             return np.c_[X, rooms_per_household, population_per_household, bedrooms_per_room]\n",
        "        else:\n",
        "            return np.c_[X, rooms_per_household, population_per_household]"
      ],
      "metadata": {
        "id": "Hj5RBdG13P0k"
      },
      "execution_count": null,
      "outputs": []
    },
    {
      "cell_type": "markdown",
      "source": [
        "Sonli ustunlar uchun"
      ],
      "metadata": {
        "id": "Vd5Euu_a6aAi"
      }
    },
    {
      "cell_type": "code",
      "source": [
        "from sklearn.pipeline import Pipeline\n",
        "from sklearn.impute import SimpleImputer\n",
        "from sklearn.preprocessing import OneHotEncoder, StandardScaler\n",
        "\n",
        "num_pipeline = Pipeline([\n",
        "    ('imputer', SimpleImputer(strategy='median')),\n",
        "    ('attribs_adder', CombinedAttributesAdder(add_bedrooms_per_room=True)),\n",
        "    ('std_scaler', StandardScaler())\n",
        "])"
      ],
      "metadata": {
        "id": "8XlQJVmL6eaJ"
      },
      "execution_count": null,
      "outputs": []
    },
    {
      "cell_type": "markdown",
      "source": [
        "Matnli ustunlar uchun"
      ],
      "metadata": {
        "id": "bevkE0uh8A4s"
      }
    },
    {
      "cell_type": "code",
      "source": [
        "from sklearn.compose import ColumnTransformer\n",
        "\n",
        "num_attribs = list(X_num)\n",
        "cat_attribs = ['ocean_proximity']\n",
        "\n",
        "full_pipeline = ColumnTransformer([\n",
        "    ('num', num_pipeline, num_attribs),\n",
        "    ('cat', OneHotEncoder(), cat_attribs)\n",
        "])"
      ],
      "metadata": {
        "id": "qbL2wWR18ACp"
      },
      "execution_count": null,
      "outputs": []
    },
    {
      "cell_type": "code",
      "source": [
        "from sklearn.compose import  ColumnTransformer\n",
        "\n",
        "num_attribs = list(X_num)\n",
        "cat_attribs = ['ocean_proximity']\n",
        "\n",
        "full_pipeline = ColumnTransformer([\n",
        "    ('num', num_pipeline, num_attribs),\n",
        "    ('cat', OneHotEncoder(), cat_attribs)\n",
        "])"
      ],
      "metadata": {
        "id": "SrnlxLV48GCp"
      },
      "execution_count": null,
      "outputs": []
    },
    {
      "cell_type": "markdown",
      "source": [
        "Mana yakuniy, to'liq konveyer tayyor bo'ldi (full_pipeline).\n",
        "\n",
        "Konveyerni ishga tushirish uchun .fit_transform() metodini chaqrisih kifoya."
      ],
      "metadata": {
        "id": "PxtdwMtx9ZlR"
      }
    },
    {
      "cell_type": "code",
      "source": [
        "X_perpared = full_pipeline.fit_transform(X_train)"
      ],
      "metadata": {
        "id": "H3wpIpsa96th"
      },
      "execution_count": null,
      "outputs": []
    },
    {
      "cell_type": "code",
      "source": [
        "X_perpared[0:5, :]"
      ],
      "metadata": {
        "id": "YKZC91It-VJV"
      },
      "execution_count": null,
      "outputs": []
    },
    {
      "cell_type": "markdown",
      "source": [
        "Ma'lumotlar ML uchun tayyor."
      ],
      "metadata": {
        "id": "gWCBogkc-mri"
      }
    },
    {
      "cell_type": "markdown",
      "source": [
        "Machine Learning\n",
        "* Bizning maqsadimiz bashorat qilish, buning uchun bir nechta ML algoritmlar mavjud.\n",
        "\n",
        "Biz kelgusi darslarda ularning har biri bilan yaqinda tanishamiz, hozir esa scikit-learn tarkibidagi ba'zi tayyor algoritmlardan foydalanamiz."
      ],
      "metadata": {
        "id": "JVcsIGZs-nUi"
      }
    },
    {
      "cell_type": "markdown",
      "source": [
        "Linear Regression - Chiziqli regressiya\n",
        "sklearn tarkibidagi LinearRegression klassidan yangi model yaratamiz."
      ],
      "metadata": {
        "id": "b-qc-mWf-zOX"
      }
    },
    {
      "cell_type": "code",
      "source": [
        "from sklearn.linear_model import LinearRegression\n",
        "LR_model = LinearRegression()"
      ],
      "metadata": {
        "id": "bPEPelfj-7CD"
      },
      "execution_count": null,
      "outputs": []
    },
    {
      "cell_type": "markdown",
      "source": [
        "LinearRegression bu estimator. Estimatorlar ma'lumotlarni qabul qilib oladi va .fit() metodi yordamida ulardan basorat qilishni o'rganadi (machine learning)"
      ],
      "metadata": {
        "id": "DojVySOo_5ar"
      }
    },
    {
      "cell_type": "code",
      "source": [
        "LR_model.fit(X_perpared, y)"
      ],
      "metadata": {
        "id": "MPC89qOV_6VY"
      },
      "execution_count": null,
      "outputs": []
    },
    {
      "cell_type": "markdown",
      "source": [
        "TAMOM! Machine Learning tugadi! Ha, adashmadingiz, bor yo'g'i 3 qator kod bilan biz hozirgina kompyuterga uylarni narxini bashorat qilishni o'rgatdik.\n",
        "\n",
        "Modelni qanday qilib tekshirib ko'rishimiz mumkin? Keling housing datasetdan biror qatorni modelga beramiz va chiqqan natijani bizdagi bor natija (label) bilan solishtiramiz."
      ],
      "metadata": {
        "id": "9Jyg-0wLAhRg"
      }
    },
    {
      "cell_type": "code",
      "source": [
        "test_data = X_train.sample(5)\n",
        "test_data"
      ],
      "metadata": {
        "id": "yz21jiitAigp"
      },
      "execution_count": null,
      "outputs": []
    },
    {
      "cell_type": "code",
      "source": [
        "# yuqoridagi qatorlarga mos keluvchi narxlarni ajratib olamiz (biz aynan shu qiymatlarni bashorat qilishimiz kerak)\n",
        "test_label = y.loc[test_data.index]\n",
        "test_label"
      ],
      "metadata": {
        "id": "07tEKqVxBZby"
      },
      "execution_count": null,
      "outputs": []
    },
    {
      "cell_type": "markdown",
      "source": [
        "test_data ni pipelinedan o'tkazib, bizga kerak ko'rinishga keltirib olamiz.\n",
        "\n",
        "Ahamiyat bering bu safgar biz .transform() metodini chaqiramiz, sababi .fit() metodini avval chaqirgan edik."
      ],
      "metadata": {
        "id": "7g3u9MpXBuBl"
      }
    },
    {
      "cell_type": "code",
      "source": [
        "test_data_prepared = full_pipeline.transform(test_data)\n",
        "test_data_prepared"
      ],
      "metadata": {
        "id": "4SCqisRgBkPL"
      },
      "execution_count": null,
      "outputs": []
    },
    {
      "cell_type": "markdown",
      "source": [
        "Bashorat (predict) qilamiz:"
      ],
      "metadata": {
        "id": "7FxtFi9QCg8W"
      }
    },
    {
      "cell_type": "code",
      "source": [
        "predicted_data = LR_model.predict(test_data_prepared)\n",
        "predicted_data"
      ],
      "metadata": {
        "id": "iZIgwyFmCh2B"
      },
      "execution_count": null,
      "outputs": []
    },
    {
      "cell_type": "markdown",
      "source": [
        "Yuoqirda ko'rib turganingiz bashorat qilingan qiymatlar. Xo'sh, ular real qiymatlardan qanday farq qiladi, solishtiramiz:"
      ],
      "metadata": {
        "id": "qps_8u0yC7K3"
      }
    },
    {
      "cell_type": "code",
      "source": [
        "pd.DataFrame({'prognoz':predicted_data, 'asl bahosi':test_label})"
      ],
      "metadata": {
        "id": "sd8w0JdeGBr9"
      },
      "execution_count": null,
      "outputs": []
    },
    {
      "cell_type": "markdown",
      "source": [
        "5-QADAM. Modelni baholaymiz\n",
        "Ko'rib turganingizdek, modelimiz qayerdadur kamroq, qayeradur ko'proq xato bilan bashorat qilgan.\n",
        "Lekin model aniqligini baxolash uchun 5 qator yetarli emas. Keling, avvalroq ajratib olgan test set yordamida sinab ko'ramiz:"
      ],
      "metadata": {
        "id": "2NraFFgvIViM"
      }
    },
    {
      "cell_type": "code",
      "source": [
        "test_set"
      ],
      "metadata": {
        "id": "sraXEBwZIXEH"
      },
      "execution_count": null,
      "outputs": []
    },
    {
      "cell_type": "markdown",
      "source": [
        "Avval predictor ustunlarni ajratib olaylik (median_house_value) dan boshqa barcha ustunlar):"
      ],
      "metadata": {
        "id": "rFmBakjJIoHk"
      }
    },
    {
      "cell_type": "code",
      "source": [
        "X_test = test_set.drop(\"median_house_value\", axis=1)\n",
        "X_test"
      ],
      "metadata": {
        "id": "iUCUBe8vInIp"
      },
      "execution_count": null,
      "outputs": []
    },
    {
      "cell_type": "markdown",
      "source": [
        "Label (median_house_value) ustunini ajratib olamiz."
      ],
      "metadata": {
        "id": "7vFJ152nlhGe"
      }
    },
    {
      "cell_type": "code",
      "source": [
        "y_test = test_set['median_house_value'].copy()\n",
        "y_test"
      ],
      "metadata": {
        "id": "oV_dRvIHI2Dy"
      },
      "execution_count": null,
      "outputs": []
    },
    {
      "cell_type": "markdown",
      "source": [
        "test_set ni ham pipelinedan o'tkazamiz:"
      ],
      "metadata": {
        "id": "qdBw-DzmmE86"
      }
    },
    {
      "cell_type": "code",
      "source": [
        "X_test_prepared = full_pipeline.transform(X_test)"
      ],
      "metadata": {
        "id": "p882Td5JmAid"
      },
      "execution_count": null,
      "outputs": []
    },
    {
      "cell_type": "code",
      "source": [
        "y_pridect = LR_model.predict(X_test_prepared)"
      ],
      "metadata": {
        "id": "yavrbUcDmeQ6"
      },
      "execution_count": null,
      "outputs": []
    },
    {
      "cell_type": "markdown",
      "source": [
        "Bashorat va real datani solishtirish uchun avvalgi bo'limda ko'rgan Root mean square error (RMSE) dan foydalanamiz:"
      ],
      "metadata": {
        "id": "QyK6_iGUm2Ij"
      }
    },
    {
      "cell_type": "code",
      "source": [
        "# O'rtacha absolyut xatolik\n",
        "from sklearn.metrics import mean_absolute_error\n",
        "mea = mean_absolute_error(y_test, y_pridect)\n",
        "print(\"MEA=\", mea)"
      ],
      "metadata": {
        "id": "sRzuaD1BGbSh"
      },
      "execution_count": null,
      "outputs": []
    },
    {
      "cell_type": "code",
      "source": [
        "# O'rtacha kvadrad xatolikni hisoblash\n",
        "from sklearn.metrics import mean_squared_error\n",
        "mse = mean_squared_error(y_test, y_pridect)\n",
        "print(\"MSE=\", np.sqrt(mse))"
      ],
      "metadata": {
        "id": "oUKxC60cm_wb"
      },
      "execution_count": null,
      "outputs": []
    },
    {
      "cell_type": "markdown",
      "source": [
        "Demak, RMSE=72701$ chiqdi. Yomon emas, lekin yaxshi ham emas. Ya'ni modelimiz uylarni baholashda o'rtacha 72000$ ga adashayapti.\n",
        "\n",
        "Model aniqligini oshirish uchun yagona, universal yechim yo'q. Qilib ko'rishingiz mumkin bo'lgan ishlar:\n",
        "\n",
        "Yaxhsiroq paramterlar topish\n",
        "Yaxhsiroq model (algoritm) tanlash\n",
        "Ko'proq ma'lumot yig'ish va hokazo.\n",
        "Biz hozir boshqa model bilan sinab ko'ramiz."
      ],
      "metadata": {
        "id": "97eO4nsLJAs2"
      }
    },
    {
      "cell_type": "markdown",
      "source": [
        "DecisionTree"
      ],
      "metadata": {
        "id": "p2s195dAmrbT"
      }
    },
    {
      "cell_type": "code",
      "source": [
        "from sklearn.tree import DecisionTreeClassifier\n",
        "Tree_model = DecisionTreeClassifier()\n",
        "Tree_model.fit(X_perpared, y)"
      ],
      "metadata": {
        "id": "mqK0m6Xbmwc9"
      },
      "execution_count": null,
      "outputs": []
    },
    {
      "cell_type": "markdown",
      "source": [
        "Modelni tekshiramiz:"
      ],
      "metadata": {
        "id": "jg75hym1np-X"
      }
    },
    {
      "cell_type": "code",
      "source": [
        "y_pridect = Tree_model.predict(X_test_prepared)"
      ],
      "metadata": {
        "id": "pcHwF5d-nhwe"
      },
      "execution_count": null,
      "outputs": []
    },
    {
      "cell_type": "code",
      "source": [
        "lin_mse = mean_squared_error(y_test, y_pridect)\n",
        "print(\"mes=\", np.sqrt(lin_mse))"
      ],
      "metadata": {
        "id": "jZVKr63HoApw"
      },
      "execution_count": null,
      "outputs": []
    },
    {
      "cell_type": "markdown",
      "source": [
        "RandomForest"
      ],
      "metadata": {
        "id": "6zZxvNM8oygG"
      }
    },
    {
      "cell_type": "code",
      "source": [
        "from sklearn.ensemble import RandomForestRegressor\n",
        "RF_model = RandomForestRegressor()\n",
        "RF_model.fit(X_perpared, y)"
      ],
      "metadata": {
        "id": "zju0M0mVoiDz"
      },
      "execution_count": null,
      "outputs": []
    },
    {
      "cell_type": "markdown",
      "source": [
        "Modelni tekshiramiz:"
      ],
      "metadata": {
        "id": "NhZmD5uopGnT"
      }
    },
    {
      "cell_type": "code",
      "source": [
        "y_predicted = RF_model.predict(X_test_prepared)\n",
        "lin_mse = mean_squared_error(y_test, y_predicted)\n",
        "# RMSE hisoblaymiz\n",
        "lin_rmse = np.sqrt(lin_mse)\n",
        "print(lin_rmse)"
      ],
      "metadata": {
        "id": "MuD2gNj5o2ta"
      },
      "execution_count": null,
      "outputs": []
    },
    {
      "cell_type": "code",
      "source": [
        "y_pridect = RF_model.predict(X_test_prepared)\n",
        "lin_a = mean_squared_error(y_test, y_pridect)\n",
        "print(\"MSE=\", np.sqrt(lin_a))"
      ],
      "metadata": {
        "id": "UJyuUz9JpKQ7"
      },
      "execution_count": null,
      "outputs": []
    },
    {
      "cell_type": "markdown",
      "source": [
        "Avvalgidan yaxhsiroq."
      ],
      "metadata": {
        "id": "9xPSVe8PqtjM"
      }
    },
    {
      "cell_type": "markdown",
      "source": [
        "Cross-Validation usuli bilan baholash\n",
        "Yuqorida biz modelni baholash uchun ma'lumotlarni test va train setlarga ajratdik.\n",
        "Bu usulning kamchiligi biz test va train uchun doim bir xil ma'lumotlardan foydalanayapmiz.\n",
        "\n",
        "Cross-validation yordamida biz ma'lumotlarni bir necha qismga ajratib, modelni turli qismlar yordamida bir nechta bor train va test qilishimiz mumkin.\n",
        "\n",
        "Misol uchun, quyidagi rasmda ma'lumotlarni 5 ga ajratib train va test qilish ko'rsatilgan."
      ],
      "metadata": {
        "id": "jabB0FuTJ5Yx"
      }
    },
    {
      "cell_type": "markdown",
      "source": [
        "Сross validation uchun ma'lumotlarni train va testga bo'lish shart emas, buni sklearn o'zi qiladi."
      ],
      "metadata": {
        "id": "wI1Ib5QBKAN7"
      }
    },
    {
      "cell_type": "code",
      "source": [
        "X = df.drop(\"median_house_value\", axis=1)\n",
        "y = df['median_house_value'].copy()\n",
        "X_perpared = full_pipeline.transform(X)"
      ],
      "metadata": {
        "id": "Gmgck6YJpio9"
      },
      "execution_count": null,
      "outputs": []
    },
    {
      "cell_type": "markdown",
      "source": [
        "Validation natijalarini ko'rsatish uchun sodda funksiya yasab olamiz"
      ],
      "metadata": {
        "id": "NkWDHhEUKtl8"
      }
    },
    {
      "cell_type": "code",
      "source": [
        "def display_scores(scores):\n",
        "    print(\"Score:\", scores)\n",
        "    print(\"Mean:\", scores.mean())\n",
        "    print(\"Std.dev:\", scores.std())\n"
      ],
      "metadata": {
        "id": "pb4o5p4rKxp5"
      },
      "execution_count": null,
      "outputs": []
    },
    {
      "cell_type": "markdown",
      "source": [
        "Cross-validation"
      ],
      "metadata": {
        "id": "nXxGeEojLhpU"
      }
    },
    {
      "cell_type": "code",
      "source": [
        "from sklearn.model_selection import cross_val_score\n"
      ],
      "metadata": {
        "id": "WawyBZryLisB"
      },
      "execution_count": null,
      "outputs": []
    },
    {
      "cell_type": "markdown",
      "source": [
        "LogisticRegression"
      ],
      "metadata": {
        "id": "jwqkls7sL7gA"
      }
    },
    {
      "cell_type": "code",
      "source": [
        "scores = cross_val_score(LR_model, X_perpared,  y, scoring=\"neg_mean_squared_error\", cv=10)\n",
        "LR_rmse_scores = np.sqrt(-scores)"
      ],
      "metadata": {
        "id": "aWG6MRxAMCMw"
      },
      "execution_count": null,
      "outputs": []
    },
    {
      "cell_type": "code",
      "source": [
        "display_scores(LR_rmse_scores)"
      ],
      "metadata": {
        "id": "q8Vs_TneNc2q"
      },
      "execution_count": null,
      "outputs": []
    },
    {
      "cell_type": "code",
      "source": [
        "scores = cross_val_score(RF_model, X_perpared, y, scoring=\"neg_mean_squared_error\", cv=5)\n",
        "RF_rmse_scores = np.sqrt(-scores)\n",
        "display_scores(RF_rmse_scores)"
      ],
      "metadata": {
        "id": "euMeTbpONt7F"
      },
      "execution_count": null,
      "outputs": []
    },
    {
      "cell_type": "markdown",
      "source": [
        "Modelni saqlash\n",
        "Yaratgan modelimizdan kelajakda foydalanish uchun saqlab qo'yishimiz lozim. Umuman olganda nafaqat model, balki boshqa kerak bo'ladigan o'zgaruvchilarni ham saqlab qo'yish maqsadga muvvofiq bo'ladi. Masalan pipeline.\n",
        "\n",
        "Buning uchun Pythondagi pickle yoki joblib modullaridan foydalanamiz.\n",
        "\n",
        "* pickle yordamida saqlash"
      ],
      "metadata": {
        "id": "AymX0URhSJyP"
      }
    },
    {
      "cell_type": "code",
      "source": [
        "import pickle\n",
        "filename = 'RF_model.pkl' # faylga istalgan nom beramiz\n",
        "with open(filename, 'wb') as file:\n",
        "    pickle.dump(RF_model, file)"
      ],
      "metadata": {
        "id": "kFLzzJ-ERfXj"
      },
      "execution_count": null,
      "outputs": []
    },
    {
      "cell_type": "markdown",
      "source": [
        "Modelni qayta o'qiymiz:"
      ],
      "metadata": {
        "id": "coQweYkySQLW"
      }
    },
    {
      "cell_type": "code",
      "source": [
        "with open(filename, 'rb') as file:\n",
        "    model=pickle.load(file)"
      ],
      "metadata": {
        "id": "POx7zFl-Sr6S"
      },
      "execution_count": null,
      "outputs": []
    },
    {
      "cell_type": "markdown",
      "source": [
        "Modelni sinab ko'ramiz"
      ],
      "metadata": {
        "id": "C2ffr8jyTvnJ"
      }
    },
    {
      "cell_type": "code",
      "source": [
        "scores = cross_val_score(model, X_perpared, y, scoring=\"neg_mean_squared_error\", cv=5)\n",
        "RF_rmse_scores = np.sqrt(-scores)\n",
        "display_scores(RF_rmse_scores)"
      ],
      "metadata": {
        "id": "jnp2WxqQS9A2"
      },
      "execution_count": null,
      "outputs": []
    },
    {
      "cell_type": "markdown",
      "source": [
        "joblib yordamida saqlash\n",
        "joblib katta NumPy martrisalarni siqib saqlash uchun afzal.\n",
        "\n",
        "joblib o'rnatilmagan bo'lsa pip install joblib yordamida o'rnatib oling."
      ],
      "metadata": {
        "id": "3ZjBPkKGUI5I"
      }
    },
    {
      "cell_type": "code",
      "source": [
        "import joblib\n",
        "\n",
        "filename = 'LR_model.jbl' # faylga istalgan nom beramiz\n",
        "joblib.dump(LR_model, filename)"
      ],
      "metadata": {
        "id": "Stf2Btt_UXDX"
      },
      "execution_count": null,
      "outputs": []
    },
    {
      "cell_type": "markdown",
      "source": [
        "Modelni o'qiymiz"
      ],
      "metadata": {
        "id": "o23-mIIHVUw7"
      }
    },
    {
      "cell_type": "code",
      "source": [
        "madel = joblib.load(filename)"
      ],
      "metadata": {
        "id": "6PedMho6Vflj"
      },
      "execution_count": null,
      "outputs": []
    },
    {
      "cell_type": "code",
      "source": [
        "scores = cross_val_score(madel, X_perpared, y, scoring=\"neg_mean_squared_error\", cv=5)\n",
        "LR_rmse_scores = np.sqrt(-scores)\n",
        "display_scores(LR_rmse_scores)"
      ],
      "metadata": {
        "id": "x2_U5renVt5e"
      },
      "execution_count": null,
      "outputs": []
    },
    {
      "cell_type": "code",
      "source": [
        "filenom = 'pipeline.jbl'\n",
        "joblib.dump(full_pipeline,  filenom)"
      ],
      "metadata": {
        "id": "2PUCZRGcWZWv"
      },
      "execution_count": null,
      "outputs": []
    },
    {
      "cell_type": "code",
      "source": [
        "pipl = joblib.load(filenom)"
      ],
      "metadata": {
        "id": "v_c8Jn6yWy2R"
      },
      "execution_count": null,
      "outputs": []
    },
    {
      "cell_type": "code",
      "source": [
        "X_prepared = full_pipeline.fit_transform(X_train)"
      ],
      "metadata": {
        "id": "GH54tKtKXa_e"
      },
      "execution_count": null,
      "outputs": []
    },
    {
      "cell_type": "code",
      "source": [
        "X_tex = pipl.fit_transform(X_train)\n",
        "X_tex"
      ],
      "metadata": {
        "id": "kcKWm0IgXbon"
      },
      "execution_count": null,
      "outputs": []
    }
  ]
}